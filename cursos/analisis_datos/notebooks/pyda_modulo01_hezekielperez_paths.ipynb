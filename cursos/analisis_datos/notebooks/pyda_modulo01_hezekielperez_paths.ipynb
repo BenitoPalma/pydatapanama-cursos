{
 "cells": [
  {
   "cell_type": "code",
   "execution_count": null,
   "id": "23a669b4",
   "metadata": {},
   "outputs": [],
   "source": []
  },
  {
   "cell_type": "markdown",
   "id": "a97ac0e6",
   "metadata": {},
   "source": [
    "# Trabajando con Paths"
   ]
  },
  {
   "cell_type": "code",
   "execution_count": 1,
   "id": "5ec9f8d9",
   "metadata": {},
   "outputs": [],
   "source": [
    "from pathlib import Path"
   ]
  },
  {
   "cell_type": "code",
   "execution_count": 8,
   "id": "6fa56f7c",
   "metadata": {},
   "outputs": [],
   "source": [
    "import sys\n",
    "from pathlib import Path\n",
    "\n",
    "# Añadir la raíz del proyecto manualmente desde cwd\n",
    "sys.path.append(str(Path().resolve().parents[2]))\n",
    "\n",
    "from cursos.analisis_datos.utils.paths import DATA_RAW_DIR, DATA_PROCESSED_DIR"
   ]
  },
  {
   "cell_type": "code",
   "execution_count": 6,
   "id": "c73a4a91",
   "metadata": {},
   "outputs": [
    {
     "data": {
      "text/plain": [
       "WindowsPath('C:/Users/ezequ/OneDrive/Escritorio/Analisis_python/pydatapanama-cursos/cursos/analisis_datos/data/raw')"
      ]
     },
     "execution_count": 6,
     "metadata": {},
     "output_type": "execute_result"
    }
   ],
   "source": [
    "DATA_RAW_DIR"
   ]
  },
  {
   "cell_type": "code",
   "execution_count": 9,
   "id": "b066ef4b",
   "metadata": {},
   "outputs": [
    {
     "data": {
      "text/plain": [
       "WindowsPath('C:/Users/ezequ/OneDrive/Escritorio/Analisis_python/pydatapanama-cursos/cursos/analisis_datos/data/processed')"
      ]
     },
     "execution_count": 9,
     "metadata": {},
     "output_type": "execute_result"
    }
   ],
   "source": [
    "DATA_PROCESSED_DIR"
   ]
  }
 ],
 "metadata": {
  "kernelspec": {
   "display_name": "pyda-py312",
   "language": "python",
   "name": "python3"
  },
  "language_info": {
   "codemirror_mode": {
    "name": "ipython",
    "version": 3
   },
   "file_extension": ".py",
   "mimetype": "text/x-python",
   "name": "python",
   "nbconvert_exporter": "python",
   "pygments_lexer": "ipython3",
   "version": "3.12.11"
  }
 },
 "nbformat": 4,
 "nbformat_minor": 5
}
