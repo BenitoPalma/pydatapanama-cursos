{
  "cells": [
    {
      "cell_type": "markdown",
      "metadata": {},
      "source": [
        "# Módulo 1: Introducción y Preparación del Entorno\n",
        "\n",
        "En este módulo aprenderás:\n",
        "- El flujo de trabajo en proyectos de análisis de datos\n",
        "- Cómo organizar un proyecto y crear entornos virtuales\n",
        "- Cómo cargar y explorar datos con Pandas\n",
        "\n",
        "La presentación de la primera sesión: [Descargar](https://docs.google.com/presentation/d/1PuFjT6oM-FlzIZpC7pY2WG_GWTV0mowa/edit?slide=id.p1#slide=id.p1)"
      ]
    },
    {
      "cell_type": "markdown",
      "metadata": {},
      "source": [
        "## 1. Flujo de trabajo en ciencia de datos\n",
        "\n",
        "Un flujo típico incluye:\n",
        "1. Definir el problema o pregunta de negocio\n",
        "2. Recolectar los datos\n",
        "3. Limpiar y transformar los datos\n",
        "4. Explorar y visualizar\n",
        "5. Modelar (opcional)\n",
        "6. Comunicar resultados\n",
        "\n",
        "Este curso se enfoca en los pasos 1 a 4."
      ]
    },
    {
      "cell_type": "markdown",
      "metadata": {},
      "source": [
        "## 2. Estructura de un proyecto profesional\n",
        "\n",
        "Una estructura recomendada puede ser:\n",
        "```\n",
        "project-name/\n",
        "├── assest/           # Imagenes, graficos (generalmente no se sube a github)\n",
        "├── data/             # Datos crudos y procesados\n",
        "├── notebooks/        # Notebooks del proyecto\n",
        "├── utils/            # Funciones auxiliares\n",
        "├── docs/             # Documentación\n",
        "├── README.md         # Descripción general\n",
        "├── environment.yml   # Dependencias usando conda\n",
        "└── requirements.txt  # Dependencias usando pip\n",
        "```"
      ]
    },
    {
      "cell_type": "markdown",
      "metadata": {},
      "source": [
        "## 3. Importar librerías y configurar entorno\n",
        "\n",
        "Importamos las librerías necesarias para trabajar con datos."
      ]
    },
    {
      "cell_type": "code",
      "execution_count": null,
      "metadata": {},
      "outputs": [],
      "source": [
        "import pandas as pd\n",
        "import numpy as np\n",
        "import matplotlib.pyplot as plt\n",
        "import seaborn as sns\n",
        "from pathlib import Path"
      ]
    },
    {
      "cell_type": "markdown",
      "metadata": {},
      "source": [
        "## 4. Definiendo la ruta de los datos\n",
        "Usaremos un dataset de ejemplo en formato CSV (por ejemplo: `salarios.csv`) ubicado en la carpeta `data/raw/`.\n"
      ]
    },
    {
      "cell_type": "markdown",
      "id": "4ccbfbcc",
      "metadata": {},
      "source": [
        "### Opcion 1) Definir la ruta de los datos"
      ]
    },
    {
      "cell_type": "code",
      "execution_count": null,
      "id": "8c1db405",
      "metadata": {},
      "outputs": [],
      "source": [
        "path_salarios = '../data/raw/salarios.csv'"
      ]
    },
    {
      "cell_type": "markdown",
      "id": "02cb9263",
      "metadata": {},
      "source": [
        "### Opcion 2) Definir la ruta de los datos usando buenas practicas y la libreria Path"
      ]
    },
    {
      "cell_type": "code",
      "execution_count": null,
      "id": "c93d679b",
      "metadata": {},
      "outputs": [],
      "source": [
        "#Importar la carpeta de datos raw desde utils.paths\n",
        "from utils.paths import DATA_RAW_DIR\n",
        "\n",
        "#definir un path o ruta con Path\n",
        "path_salarios = DATA_RAW_DIR / \"salarios.csv\"\n",
        "path_salarios = str(path_salarios)\n",
        "\n",
        "print(f\"Ruta del archivo salarios: {path_salarios}\")\n",
        "print(f\"existe archivo salarios: {Path(path_salarios).exists()}\")"
      ]
    },
    {
      "cell_type": "markdown",
      "id": "de6c6a76",
      "metadata": {},
      "source": [
        "## 5. Cargar un dataset\n",
        "Usaremos un dataset de ejemplo en formato CSV (por ejemplo: `salarios.csv`) ubicado en la carpeta `data/raw/`.\n"
      ]
    },
    {
      "cell_type": "markdown",
      "id": "7e95cd5f",
      "metadata": {},
      "source": [
        "### Opcion 1) cargando los datos a un dataframe"
      ]
    },
    {
      "cell_type": "code",
      "execution_count": null,
      "metadata": {},
      "outputs": [],
      "source": [
        "df = pd.read_csv('../data/raw/salarios.csv')\n",
        "df.head()"
      ]
    },
    {
      "cell_type": "markdown",
      "id": "dc862023",
      "metadata": {},
      "source": [
        "### Opcion 2) cargando los datos a un dataframe con buenas prácticas"
      ]
    },
    {
      "cell_type": "code",
      "execution_count": null,
      "id": "d3f66838",
      "metadata": {},
      "outputs": [],
      "source": [
        "df_salarios = pd.read_csv(filepath_or_buffer=path_salarios, sep=',', encoding='utf-8')\n"
      ]
    },
    {
      "cell_type": "code",
      "execution_count": null,
      "id": "8505df57",
      "metadata": {},
      "outputs": [],
      "source": [
        "df_salarios.head()"
      ]
    },
    {
      "cell_type": "code",
      "execution_count": null,
      "id": "3e71aed2",
      "metadata": {},
      "outputs": [],
      "source": [
        "df_salarios.tail()"
      ]
    },
    {
      "cell_type": "code",
      "execution_count": null,
      "id": "b50a0d4e",
      "metadata": {},
      "outputs": [],
      "source": [
        "df_salarios.sample()"
      ]
    },
    {
      "cell_type": "markdown",
      "metadata": {},
      "source": [
        "## 6. Exploración inicial del dataset\n",
        "\n",
        "Veamos el tipo de datos, columnas, y valores nulos."
      ]
    },
    {
      "cell_type": "code",
      "execution_count": null,
      "metadata": {},
      "outputs": [],
      "source": [
        "df.info()"
      ]
    },
    {
      "cell_type": "code",
      "execution_count": null,
      "metadata": {},
      "outputs": [],
      "source": [
        "df.describe()"
      ]
    },
    {
      "cell_type": "code",
      "execution_count": null,
      "metadata": {},
      "outputs": [],
      "source": [
        "df.isnull().sum()"
      ]
    }
  ],
  "metadata": {
    "kernelspec": {
      "display_name": "pyda-py312",
      "language": "python",
      "name": "python3"
    },
    "language_info": {
      "name": "python",
      "version": "3.12.11"
    }
  },
  "nbformat": 4,
  "nbformat_minor": 5
}
